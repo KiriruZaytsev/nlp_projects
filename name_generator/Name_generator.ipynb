{
 "cells": [
  {
   "cell_type": "code",
   "execution_count": 28,
   "id": "bb9fe59a",
   "metadata": {},
   "outputs": [],
   "source": [
    "import pickle\n",
    "import numpy as np\n",
    "import torch\n",
    "from torch import nn\n",
    "from tqdm import tqdm\n",
    "from collections import Counter\n",
    "import torch.cuda\n",
    "from IPython.display import clear_output\n",
    "import matplotlib.pyplot as plt"
   ]
  },
  {
   "cell_type": "code",
   "execution_count": 2,
   "id": "b804f427",
   "metadata": {},
   "outputs": [
    {
     "data": {
      "text/plain": [
       "'cpu'"
      ]
     },
     "execution_count": 2,
     "metadata": {},
     "output_type": "execute_result"
    }
   ],
   "source": [
    "device = \"cuda\" if torch.cuda.is_available() else \"cpu\"\n",
    "\n",
    "RANDOM_SEED = 42\n",
    "BATCH_SIZE = 32\n",
    "\n",
    "torch.cuda.manual_seed(seed = RANDOM_SEED)\n",
    "\n",
    "device"
   ]
  },
  {
   "cell_type": "code",
   "execution_count": 3,
   "id": "019a7587",
   "metadata": {},
   "outputs": [],
   "source": [
    "from torch.utils.data import Dataset, DataLoader\n",
    "from torchtext.vocab import build_vocab_from_iterator\n",
    "\n",
    "class NamesDataset(Dataset):\n",
    "    def __init__(self, names):\n",
    "        self.names = names\n",
    "        self.specials = ['<pad>', '<bos>', '<eos>']\n",
    "        self.vocab = build_vocab_from_iterator(names, specials = self.specials)\n",
    "        self.itos = self.vocab.get_itos()\n",
    "        self.pad_idx = self.vocab['<pad>']\n",
    "        self.bos_idx = self.vocab['<bos>']\n",
    "        self.eos_idx = self.vocab['<eos>']\n",
    "        self.max_len = max(len(name) for name in names) + 2\n",
    "        \n",
    "    def __len__(self):\n",
    "        return len(self.names)\n",
    "    \n",
    "    def str_to_idx(self, chars):\n",
    "        return [self.vocab[char] for char in chars]\n",
    "    \n",
    "    def idx_to_str(self, indicies):\n",
    "        return [self.itos[index] for index in indicies]\n",
    "    \n",
    "    def encode(self, chars):\n",
    "        chars = ['<bos>'] + list(chars) + ['<eos>']\n",
    "        return self.str_to_idx(chars)\n",
    "    \n",
    "    def decode(self, indicies):\n",
    "        chars = self.idx_to_str(indicies)\n",
    "        return \"\".join(char for char in chars if char not in self.specials)\n",
    "    \n",
    "    def __getitem__(self, item):\n",
    "        encoded = self.encode(self.names[item])\n",
    "        padded = torch.full((self.max_len, ), self.pad_idx, dtype = torch.int64)\n",
    "        padded[:len(encoded)] = torch.tensor(encoded)\n",
    "        return padded, len(encoded)\n",
    "    "
   ]
  },
  {
   "cell_type": "code",
   "execution_count": 4,
   "id": "50b7c028",
   "metadata": {},
   "outputs": [],
   "source": [
    "with open('male.txt', 'r', encoding='utf-8') as file:\n",
    "    data = [line.strip() for line in file]\n",
    "    \n",
    "with open('male.pkl', 'wb') as file:\n",
    "    pickle.dump(data, file)\n",
    "\n",
    "with open('male.pkl', 'rb') as file:\n",
    "    names_data = pickle.load(file)\n",
    "    \n",
    "for name in names_data:\n",
    "    name = name.strip()"
   ]
  },
  {
   "cell_type": "code",
   "execution_count": 5,
   "id": "66182e94",
   "metadata": {},
   "outputs": [
    {
     "data": {
      "text/plain": [
       "['Aamir',\n",
       " 'Aaron',\n",
       " 'Abbey',\n",
       " 'Abbie',\n",
       " 'Abbot',\n",
       " 'Abbott',\n",
       " 'Abby',\n",
       " 'Abdel',\n",
       " 'Abdul',\n",
       " 'Abdulkarim']"
      ]
     },
     "execution_count": 5,
     "metadata": {},
     "output_type": "execute_result"
    }
   ],
   "source": [
    "names_data[:10]"
   ]
  },
  {
   "cell_type": "code",
   "execution_count": 6,
   "id": "43b85b68",
   "metadata": {},
   "outputs": [],
   "source": [
    "dataset = NamesDataset(data)\n",
    "dataloader = DataLoader(dataset, batch_size = BATCH_SIZE, shuffle = True)"
   ]
  },
  {
   "cell_type": "code",
   "execution_count": 8,
   "id": "cfac0dd4",
   "metadata": {},
   "outputs": [
    {
     "data": {
      "text/plain": [
       "tensor([[ 1, 24,  4, 16,  4, 12,  2,  0,  0,  0,  0,  0,  0,  0,  0,  0,  0],\n",
       "        [ 1, 34,  3,  5,  8,  9, 11,  2,  0,  0,  0,  0,  0,  0,  0,  0,  0],\n",
       "        [ 1, 31,  7,  6,  6,  7,  3,  2,  0,  0,  0,  0,  0,  0,  0,  0,  0],\n",
       "        [ 1, 34,  3, 10, 14,  5,  8,  2,  0,  0,  0,  0,  0,  0,  0,  0,  0]])"
      ]
     },
     "execution_count": 8,
     "metadata": {},
     "output_type": "execute_result"
    }
   ],
   "source": [
    "for names, _ in dataloader:\n",
    "    break\n",
    "\n",
    "names[:4]"
   ]
  },
  {
   "cell_type": "code",
   "execution_count": 31,
   "id": "83befcb6",
   "metadata": {},
   "outputs": [],
   "source": [
    "from torch.nn.utils.rnn import pack_padded_sequence, pad_packed_sequence\n",
    "from torch.distributions.categorical import Categorical\n",
    "\n",
    "class Generator(nn.Module):\n",
    "    def __init__(self, dataset, embed_dim = 32, hidden_dim = 32, max_len = None):\n",
    "        super().__init__()\n",
    "        self.dataset = dataset\n",
    "        self.embedding = nn.Embedding(num_embeddings = len(dataset.vocab), \n",
    "                                      embedding_dim = embed_dim,\n",
    "                                      padding_idx = dataset.pad_idx)\n",
    "        self.rnn = nn.RNN(input_size = embed_dim, hidden_size = hidden_dim, batch_first = True)\n",
    "        self.linear = nn.Linear(in_features = hidden_dim, out_features = len(dataset.vocab))\n",
    "        self.max_len = dataset.max_len if max_len is None else max_len\n",
    "        \n",
    "    def forward(self, tokens, lenghts):\n",
    "        embeds = self.embedding(tokens)\n",
    "        packed_embeds = pack_padded_sequence(embeds, lenghts, \n",
    "                                                  batch_first = True, \n",
    "                                                  enforce_sorted = False)\n",
    "        outputs, hidden = self.rnn(packed_embeds)\n",
    "        outputs, lenghts = pad_packed_sequence(outputs, batch_first = True)\n",
    "        logits = self.linear(outputs)\n",
    "        \n",
    "        return logits\n",
    "    \n",
    "    @torch.no_grad\n",
    "    def inference(self, prefix = \"\"):\n",
    "        tokens = self.dataset.encode(prefix)[:-1]\n",
    "        tokens = torch.tensor(tokens).unsqueeze(0).to(device)\n",
    "        \n",
    "        embeds = self.embedding(tokens)\n",
    "        output, hidden = self.rnn(embeds)\n",
    "        logits = self.linear(output)\n",
    "        \n",
    "        new_tokens = Categorical(logits = logits[:, -1:]).sample()\n",
    "        tokens = torch.cat([tokens, new_tokens], dim = 1)\n",
    "        \n",
    "        while tokens.shape[1] < self.max_len:\n",
    "            if new_tokens.item() == self.dataset.eos_idx:\n",
    "                break\n",
    "            \n",
    "            embeds = self.embedding(new_tokens)\n",
    "            output, hidden = self.rnn(embeds, hidden)\n",
    "            logits = self.linear(output)\n",
    "            \n",
    "            new_tokens = Categorical(logits = logits[:, -1:]).sample()\n",
    "            tokens = torch.cat([tokens, new_tokens], dim = 1)\n",
    "    \n",
    "        return self.dataset.decode(tokens.squeeze())\n",
    "            "
   ]
  },
  {
   "cell_type": "code",
   "execution_count": 32,
   "id": "e88cb82a",
   "metadata": {},
   "outputs": [],
   "source": [
    "model = Generator(dataset, embed_dim = 32, hidden_dim = 32).to(device)\n",
    "optimizer = torch.optim.Adam(model.parameters(), lr = 1e-3)\n",
    "loss_fn = nn.CrossEntropyLoss(ignore_index = dataset.pad_idx)"
   ]
  },
  {
   "cell_type": "code",
   "execution_count": 33,
   "id": "8d366f64",
   "metadata": {},
   "outputs": [],
   "source": [
    "def plot_losses(losses):\n",
    "    clear_output()\n",
    "    plt.plot(range(1, len(losses)+1), losses)\n",
    "    plt.xlabel('epoch')\n",
    "    plt.ylabel('loss')\n",
    "    plt.show()"
   ]
  },
  {
   "cell_type": "code",
   "execution_count": 34,
   "id": "cf0a6670",
   "metadata": {},
   "outputs": [
    {
     "data": {
      "image/png": "[encoded data removed]",
      "text/plain": [
       "<Figure size 640x480 with 1 Axes>"
      ]
     },
     "metadata": {},
     "output_type": "display_data"
    }
   ],
   "source": [
    "losses = []\n",
    "num_epoches = 200\n",
    "\n",
    "for epoch in range(num_epoches):\n",
    "    running_loss = 0.0\n",
    "    model.train()\n",
    "    for tokens, lengths in dataloader:\n",
    "        optimizer.zero_grad()\n",
    "        tokens = tokens[:, :lengths.max()].to(device)\n",
    "        logits = model(tokens[:, :-1], lengths-1)\n",
    "        loss = loss_fn(logits.transpose(1, 2), tokens[:, 1:])\n",
    "        loss.backward()\n",
    "        optimizer.step()\n",
    "        \n",
    "        running_loss += loss.item() * tokens.shape[0]\n",
    "    losses += [running_loss / len(dataset)]\n",
    "    \n",
    "    if epoch % 10 == 0:\n",
    "        plot_losses(losses)\n",
    "        "
   ]
  },
  {
   "cell_type": "code",
   "execution_count": 35,
   "id": "347fba34",
   "metadata": {},
   "outputs": [
    {
     "data": {
      "text/plain": [
       "['Jeron',\n",
       " 'Hazely',\n",
       " 'Alfale',\n",
       " 'Brrstel',\n",
       " 'Mirchad',\n",
       " 'Souge',\n",
       " 'Arnory',\n",
       " 'Berkie',\n",
       " 'Tymp',\n",
       " 'Eurni']"
      ]
     },
     "execution_count": 35,
     "metadata": {},
     "output_type": "execute_result"
    }
   ],
   "source": [
    "[model.inference('') for _ in range(10)]"
   ]
  },
  {
   "cell_type": "code",
   "execution_count": 56,
   "id": "2f1f9c19",
   "metadata": {},
   "outputs": [
    {
     "data": {
      "text/plain": [
       "['Kincolphol',\n",
       " 'Kimon',\n",
       " 'Killie',\n",
       " 'Kir',\n",
       " 'Kim',\n",
       " 'Kinti',\n",
       " 'Kim',\n",
       " 'Killedworm',\n",
       " 'Kinsson',\n",
       " 'Kille']"
      ]
     },
     "execution_count": 56,
     "metadata": {},
     "output_type": "execute_result"
    }
   ],
   "source": [
    "[model.inference('') for _ in range(10)]"
   ]
  },
  {
   "cell_type": "code",
   "execution_count": null,
   "id": "1c593ef3",
   "metadata": {},
   "outputs": [],
   "source": []
  },
  {
   "cell_type": "code",
   "execution_count": null,
   "id": "f6d0c067",
   "metadata": {},
   "outputs": [],
   "source": []
  }
 ],
 "metadata": {
  "kernelspec": {
   "display_name": "Python 3 (ipykernel)",
   "language": "python",
   "name": "python3"
  },
  "language_info": {
   "codemirror_mode": {
    "name": "ipython",
    "version": 3
   },
   "file_extension": ".py",
   "mimetype": "text/x-python",
   "name": "python",
   "nbconvert_exporter": "python",
   "pygments_lexer": "ipython3",
   "version": "3.11.5"
  }
 },
 "nbformat": 4,
 "nbformat_minor": 5
}
